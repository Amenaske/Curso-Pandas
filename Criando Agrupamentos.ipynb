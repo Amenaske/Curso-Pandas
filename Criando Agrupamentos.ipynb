{
 "cells": [
  {
   "cell_type": "markdown",
   "id": "4f9eb5d4",
   "metadata": {},
   "source": [
    "# Relatório de Análises VII"
   ]
  },
  {
   "cell_type": "markdown",
   "id": "63fc96d2",
   "metadata": {},
   "source": [
    "## Criando Agrupamentos"
   ]
  },
  {
   "cell_type": "code",
   "execution_count": 1,
   "id": "0436c481",
   "metadata": {},
   "outputs": [],
   "source": [
    "import pandas as pd"
   ]
  },
  {
   "cell_type": "code",
   "execution_count": 19,
   "id": "473065dd",
   "metadata": {},
   "outputs": [],
   "source": [
    "dados = pd.read_csv('dados/aluguel_residencial.csv', sep = \";\")"
   ]
  },
  {
   "cell_type": "code",
   "execution_count": 35,
   "id": "95c3da66",
   "metadata": {},
   "outputs": [],
   "source": [
    "bairros = ['Copacabana', 'Jardim Botânico', 'Centro', 'Higienópolis',\n",
    "      'Cachambi', 'Barra da Tijuca', 'Ramos', 'Grajaú']"
   ]
  },
  {
   "cell_type": "code",
   "execution_count": 36,
   "id": "d3417049",
   "metadata": {},
   "outputs": [],
   "source": [
    "selecao = dados['Bairro'].isin(bairros)"
   ]
  },
  {
   "cell_type": "code",
   "execution_count": 37,
   "id": "01e50605",
   "metadata": {},
   "outputs": [],
   "source": [
    "dados = dados[selecao]"
   ]
  },
  {
   "cell_type": "code",
   "execution_count": 38,
   "id": "dac5f643",
   "metadata": {},
   "outputs": [],
   "source": [
    "grupo_bairros = dados.groupby('Bairro')"
   ]
  },
  {
   "cell_type": "code",
   "execution_count": 39,
   "id": "74e7dcd4",
   "metadata": {},
   "outputs": [
    {
     "name": "stdout",
     "output_type": "stream",
     "text": [
      "Barra da Tijuca -> 6962.353252647504\n",
      "Cachambi -> 1157.1742424242425\n",
      "Centro -> 1277.2934472934473\n",
      "Copacabana -> 4095.454746136865\n",
      "Grajaú -> 2038.6206896551723\n",
      "Higienópolis -> 1006.25\n",
      "Jardim Botânico -> 8661.015037593985\n",
      "Ramos -> 958.0\n"
     ]
    }
   ],
   "source": [
    "for bairro, data in grupo_bairros:\n",
    "    print('{} -> {}'.format(bairro, data['Valor'].mean()))"
   ]
  },
  {
   "cell_type": "code",
   "execution_count": 40,
   "id": "4865036b",
   "metadata": {},
   "outputs": [
    {
     "data": {
      "text/plain": [
       "Bairro\n",
       "Barra da Tijuca    6962.35\n",
       "Cachambi           1157.17\n",
       "Centro             1277.29\n",
       "Copacabana         4095.45\n",
       "Grajaú             2038.62\n",
       "Higienópolis       1006.25\n",
       "Jardim Botânico    8661.02\n",
       "Ramos               958.00\n",
       "Name: Valor, dtype: float64"
      ]
     },
     "execution_count": 40,
     "metadata": {},
     "output_type": "execute_result"
    }
   ],
   "source": [
    "grupo_bairros['Valor'].mean().round(2)"
   ]
  },
  {
   "cell_type": "markdown",
   "id": "6aa80a55",
   "metadata": {},
   "source": [
    "## Estatísticas Descritivas"
   ]
  },
  {
   "cell_type": "code",
   "execution_count": 41,
   "id": "a9e167b2",
   "metadata": {},
   "outputs": [
    {
     "data": {
      "text/html": [
       "<div>\n",
       "<style scoped>\n",
       "    .dataframe tbody tr th:only-of-type {\n",
       "        vertical-align: middle;\n",
       "    }\n",
       "\n",
       "    .dataframe tbody tr th {\n",
       "        vertical-align: top;\n",
       "    }\n",
       "\n",
       "    .dataframe thead th {\n",
       "        text-align: right;\n",
       "    }\n",
       "</style>\n",
       "<table border=\"1\" class=\"dataframe\">\n",
       "  <thead>\n",
       "    <tr style=\"text-align: right;\">\n",
       "      <th></th>\n",
       "      <th>count</th>\n",
       "      <th>mean</th>\n",
       "      <th>std</th>\n",
       "      <th>min</th>\n",
       "      <th>25%</th>\n",
       "      <th>50%</th>\n",
       "      <th>75%</th>\n",
       "      <th>max</th>\n",
       "    </tr>\n",
       "    <tr>\n",
       "      <th>Bairro</th>\n",
       "      <th></th>\n",
       "      <th></th>\n",
       "      <th></th>\n",
       "      <th></th>\n",
       "      <th></th>\n",
       "      <th></th>\n",
       "      <th></th>\n",
       "      <th></th>\n",
       "    </tr>\n",
       "  </thead>\n",
       "  <tbody>\n",
       "    <tr>\n",
       "      <th>Barra da Tijuca</th>\n",
       "      <td>3966.0</td>\n",
       "      <td>6962.35</td>\n",
       "      <td>11740.05</td>\n",
       "      <td>800.0</td>\n",
       "      <td>2500.0</td>\n",
       "      <td>4400.0</td>\n",
       "      <td>8500.0</td>\n",
       "      <td>600000.0</td>\n",
       "    </tr>\n",
       "    <tr>\n",
       "      <th>Cachambi</th>\n",
       "      <td>132.0</td>\n",
       "      <td>1157.17</td>\n",
       "      <td>351.49</td>\n",
       "      <td>600.0</td>\n",
       "      <td>900.0</td>\n",
       "      <td>1100.0</td>\n",
       "      <td>1300.0</td>\n",
       "      <td>2800.0</td>\n",
       "    </tr>\n",
       "    <tr>\n",
       "      <th>Centro</th>\n",
       "      <td>351.0</td>\n",
       "      <td>1277.29</td>\n",
       "      <td>890.86</td>\n",
       "      <td>400.0</td>\n",
       "      <td>800.0</td>\n",
       "      <td>1000.0</td>\n",
       "      <td>1500.0</td>\n",
       "      <td>12000.0</td>\n",
       "    </tr>\n",
       "    <tr>\n",
       "      <th>Copacabana</th>\n",
       "      <td>2718.0</td>\n",
       "      <td>4095.45</td>\n",
       "      <td>3572.63</td>\n",
       "      <td>100.0</td>\n",
       "      <td>2000.0</td>\n",
       "      <td>3000.0</td>\n",
       "      <td>4781.5</td>\n",
       "      <td>35000.0</td>\n",
       "    </tr>\n",
       "    <tr>\n",
       "      <th>Grajaú</th>\n",
       "      <td>145.0</td>\n",
       "      <td>2038.62</td>\n",
       "      <td>4901.99</td>\n",
       "      <td>650.0</td>\n",
       "      <td>1250.0</td>\n",
       "      <td>1500.0</td>\n",
       "      <td>1700.0</td>\n",
       "      <td>60000.0</td>\n",
       "    </tr>\n",
       "    <tr>\n",
       "      <th>Higienópolis</th>\n",
       "      <td>16.0</td>\n",
       "      <td>1006.25</td>\n",
       "      <td>409.42</td>\n",
       "      <td>700.0</td>\n",
       "      <td>800.0</td>\n",
       "      <td>875.0</td>\n",
       "      <td>1100.0</td>\n",
       "      <td>2400.0</td>\n",
       "    </tr>\n",
       "    <tr>\n",
       "      <th>Jardim Botânico</th>\n",
       "      <td>266.0</td>\n",
       "      <td>8661.02</td>\n",
       "      <td>9298.12</td>\n",
       "      <td>1550.0</td>\n",
       "      <td>3125.0</td>\n",
       "      <td>4000.0</td>\n",
       "      <td>10000.0</td>\n",
       "      <td>50000.0</td>\n",
       "    </tr>\n",
       "    <tr>\n",
       "      <th>Ramos</th>\n",
       "      <td>35.0</td>\n",
       "      <td>958.00</td>\n",
       "      <td>285.08</td>\n",
       "      <td>500.0</td>\n",
       "      <td>750.0</td>\n",
       "      <td>900.0</td>\n",
       "      <td>1100.0</td>\n",
       "      <td>1700.0</td>\n",
       "    </tr>\n",
       "  </tbody>\n",
       "</table>\n",
       "</div>"
      ],
      "text/plain": [
       "                  count     mean       std     min     25%     50%      75%  \\\n",
       "Bairro                                                                        \n",
       "Barra da Tijuca  3966.0  6962.35  11740.05   800.0  2500.0  4400.0   8500.0   \n",
       "Cachambi          132.0  1157.17    351.49   600.0   900.0  1100.0   1300.0   \n",
       "Centro            351.0  1277.29    890.86   400.0   800.0  1000.0   1500.0   \n",
       "Copacabana       2718.0  4095.45   3572.63   100.0  2000.0  3000.0   4781.5   \n",
       "Grajaú            145.0  2038.62   4901.99   650.0  1250.0  1500.0   1700.0   \n",
       "Higienópolis       16.0  1006.25    409.42   700.0   800.0   875.0   1100.0   \n",
       "Jardim Botânico   266.0  8661.02   9298.12  1550.0  3125.0  4000.0  10000.0   \n",
       "Ramos              35.0   958.00    285.08   500.0   750.0   900.0   1100.0   \n",
       "\n",
       "                      max  \n",
       "Bairro                     \n",
       "Barra da Tijuca  600000.0  \n",
       "Cachambi           2800.0  \n",
       "Centro            12000.0  \n",
       "Copacabana        35000.0  \n",
       "Grajaú            60000.0  \n",
       "Higienópolis       2400.0  \n",
       "Jardim Botânico   50000.0  \n",
       "Ramos              1700.0  "
      ]
     },
     "execution_count": 41,
     "metadata": {},
     "output_type": "execute_result"
    }
   ],
   "source": [
    "grupo_bairros['Valor'].describe().round(2)"
   ]
  },
  {
   "cell_type": "code",
   "execution_count": 42,
   "id": "2a089f4f",
   "metadata": {},
   "outputs": [],
   "source": [
    "%matplotlib inline\n",
    "import matplotlib.pyplot as plt\n",
    "plt.rc('figure', figsize = (20,10))"
   ]
  },
  {
   "cell_type": "code",
   "execution_count": 43,
   "id": "2fa97543",
   "metadata": {},
   "outputs": [
    {
     "data": {
      "text/plain": [
       "Text(0.5, 1.0, 'Valor Médio do Aluguel por Bairro')"
      ]
     },
     "execution_count": 43,
     "metadata": {},
     "output_type": "execute_result"
    },
    {
     "data": {
      "image/png": "[encoded data removed]",
      "text/plain": [
       "<Figure size 1440x720 with 1 Axes>"
      ]
     },
     "metadata": {
      "needs_background": "light"
     },
     "output_type": "display_data"
    }
   ],
   "source": [
    "fig = grupo_bairros['Valor'].mean().plot.bar(color = 'blue')\n",
    "fig.set_ylabel('Valor do Aluguel')\n",
    "fig.set_title('Valor Médio do Aluguel por Bairro', {'fontsize': 22})"
   ]
  },
  {
   "cell_type": "code",
   "execution_count": null,
   "id": "c0c5b0b3",
   "metadata": {},
   "outputs": [],
   "source": []
  }
 ],
 "metadata": {
  "kernelspec": {
   "display_name": "Python 3 (ipykernel)",
   "language": "python",
   "name": "python3"
  },
  "language_info": {
   "codemirror_mode": {
    "name": "ipython",
    "version": 3
   },
   "file_extension": ".py",
   "mimetype": "text/x-python",
   "name": "python",
   "nbconvert_exporter": "python",
   "pygments_lexer": "ipython3",
   "version": "3.9.12"
  }
 },
 "nbformat": 4,
 "nbformat_minor": 5
}
